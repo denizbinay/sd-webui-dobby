{
 "cells": [
  {
   "cell_type": "markdown",
   "id": "2a715373-7a94-4ae0-96d1-958a9cbd2061",
   "metadata": {},
   "source": [
    "# INSTALL STABLE DIFFUSION IN PAPERSPACE GRADIENT\n",
    "This script installs Stable Diffusion with Webui in a Paperspace Gradient Notebook.\n",
    "\n",
    "\n",
    "**Instructions**\n",
    "\n",
    "1. Clone this [Notebook](https://console.paperspace.com/bombig/notebook/rebjbnf37p547u7) Or Upload this [File](https://github.com/denizbinay/sd-webui-dobby/blob/main/sd-webui-dobby.ipynb) to a new notebook\n",
    "2. Create an Account at huggingface.co and accept the terms [here](https://huggingface.co/CompVis/stable-diffusion-v1-4). After that create an access token [here](https://huggingface.co/settings/tokens).\n",
    "3. Copy your access token into TOKEN and run INSTALL \n",
    "4. After several Minutes you can start with LAUNCH\n",
    "\n",
    "\n",
    "Stable Diffusion\n",
    "https://github.com/CompVis/stable-diffusion\n",
    "\n",
    "Stable Diffusion Webui\n",
    "https://github.com/AUTOMATIC1111/stable-diffusion-webui\n",
    "\n",
    "Paperspace Gradient\n",
    "https://www.paperspace.com/gradient\n",
    "\n",
    "This Script based on Colab Vodemort\n",
    "https://colab.research.google.com/drive/1Iy-xW9t1-OQWhb0hNxueGij8phCyluOh\n",
    "\n",
    "Github Repository\n",
    "https://github.com/denizbinay/sd-webui-dobby"
   ]
  },
  {
   "cell_type": "code",
   "execution_count": null,
   "id": "5d089bbd",
   "metadata": {},
   "outputs": [],
   "source": [
    "####### LAUNCH\n",
    "\n",
    "# OPTIONS\n",
    "# --opt-split-attention\n",
    "# --no-progressbar-hiding\n",
    "# --max-batch-count MAX_BATCH_COUNT\n",
    "# --medvram (use this for mid tier gpus)\n",
    "# --lowvram (use this for low tier gpus)\n",
    "# --unload-gfpgan \n",
    "# --share (needed for public gradio link)\n",
    "# --help more options\n",
    "#\n",
    "# for more informations:\n",
    "# https://github.com/AUTOMATIC1111/stable-diffusion-webui\n",
    "\n",
    "!python /notebooks/stable-diffusion/stable-diffusion-webui/webui.py --share"
   ]
  }
 ],
 "metadata": {
  "kernelspec": {
   "display_name": "Python 3.10.6 64-bit",
   "language": "python",
   "name": "python3"
  },
  "language_info": {
   "codemirror_mode": {
    "name": "ipython",
    "version": 3
   },
   "file_extension": ".py",
   "mimetype": "text/x-python",
   "name": "python",
   "nbconvert_exporter": "python",
   "pygments_lexer": "ipython3",
   "version": "3.10.6"
  },
  "vscode": {
   "interpreter": {
    "hash": "369f2c481f4da34e4445cda3fffd2e751bd1c4d706f27375911949ba6bb62e1c"
   }
  }
 },
 "nbformat": 4,
 "nbformat_minor": 5
}
