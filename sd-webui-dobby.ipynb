{
 "cells": [
  {
   "cell_type": "markdown",
   "id": "2a715373-7a94-4ae0-96d1-958a9cbd2061",
   "metadata": {},
   "source": [
    "# INSTALL STABLE DIFFUSION IN PAPERSPACE GRADIENT\n",
    "This script installs Stable Diffusion with Webui in a Paperspace Gradient Notebook.\n",
    "\n",
    "\n",
    "**Instructions**\n",
    "\n",
    "1. Create a new notebook\n",
    "2. Upload this file to your new notebook\n",
    "3. Create an Account at huggingface.co and accept the terms [here](https://huggingface.co/CompVis/stable-diffusion-v1-4). After that create an access token [here](https://huggingface.co/settings/tokens).\n",
    "4. Copy your access token into TOKEN and run INSTALL \n",
    "5. After several Minutes you can start with LAUNCH\n",
    "\n",
    "\n",
    "Stable Diffusion\n",
    "https://github.com/CompVis/stable-diffusion\n",
    "\n",
    "Stable Diffusion Webui\n",
    "https://github.com/AUTOMATIC1111/stable-diffusion-webui\n",
    "\n",
    "Paperspace Gradient\n",
    "https://www.paperspace.com/gradient\n",
    "\n",
    "This Script based on Colab Vodemort\n",
    "https://colab.research.google.com/drive/1Iy-xW9t1-OQWhb0hNxueGij8phCyluOh\n",
    "\n",
    "Github Repository\n",
    "https://github.com/denizbinay/sd-webui-dobby"
   ]
  },
  {
   "cell_type": "code",
   "execution_count": null,
   "id": "b31f078d-d242-49c8-8c8e-3e3a72c10c66",
   "metadata": {
    "execution": {
     "iopub.execute_input": "2022-09-08T21:40:51.395320Z",
     "iopub.status.busy": "2022-09-08T21:40:51.394921Z",
     "iopub.status.idle": "2022-09-08T21:43:12.063963Z",
     "shell.execute_reply": "2022-09-08T21:43:12.062729Z",
     "shell.execute_reply.started": "2022-09-08T21:40:51.395245Z"
    }
   },
   "outputs": [],
   "source": [
    "####### INSTALL \n",
    "TOKEN = \"YOUR_TOKEN_HERE\"\n",
    "\n",
    "!pip install torch --extra-index-url https://download.pytorch.org/whl/cu113\n",
    "!git clone https://github.com/CompVis/stable-diffusion.git\n",
    "!git clone https://github.com/CompVis/taming-transformers\n",
    "\n",
    "!git clone https://github.com/sczhou/CodeFormer.git CodeFormer\n",
    "!pip install -r CodeFormer/requirements.txt \n",
    "\n",
    "!pip install transformers==4.19.2 diffusers invisible-watermark\n",
    "!pip install git+https://github.com/crowsonkb/k-diffusion.git\n",
    "!pip install git+https://github.com/TencentARC/GFPGAN.git\n",
    "\n",
    "%cd stable-diffusion\n",
    "!git clone https://github.com/AUTOMATIC1111/stable-diffusion-webui.git\n",
    "!pip install -r stable-diffusion-webui/requirements.txt\n",
    "!pip install -U numpy\n",
    "\n",
    "\n",
    "\n",
    "model_path = \"/notebooks/stable-diffusion/models/ldm/stable-diffusion-v1/\"\n",
    "!mkdir {model_path}\n",
    "\n",
    "user_header = f\"\\\"Authorization: Bearer {TOKEN}\\\"\"\n",
    "!wget --header={user_header} https://huggingface.co/CompVis/stable-diffusion-v-1-4-original/resolve/main/sd-v1-4.ckpt -O {model_path}model.ckpt\n",
    "!wget https://github.com/TencentARC/GFPGAN/releases/download/v1.3.0/GFPGANv1.3.pth -P \"/notebooks/stable-diffusion/\""
   ]
  },
  {
   "cell_type": "code",
   "execution_count": null,
   "id": "5d089bbd",
   "metadata": {},
   "outputs": [],
   "source": [
    "####### LAUNCH\n",
    "\n",
    "# OPTIONS\n",
    "# --opt-split-attention\n",
    "# --no-progressbar-hiding\n",
    "# --max-batch-count MAX_BATCH_COUNT\n",
    "# --medvram (use this for mid tier gpus)\n",
    "# --lowvram (use this for low tier gpus)\n",
    "# --unload-gfpgan \n",
    "# --share (needed for public gradio link)\n",
    "# --help more options\n",
    "#\n",
    "# for more informations:\n",
    "# https://github.com/AUTOMATIC1111/stable-diffusion-webui\n",
    "\n",
    "!python /notebooks/stable-diffusion/stable-diffusion-webui/webui.py --share"
   ]
  }
 ],
 "metadata": {
  "kernelspec": {
   "display_name": "Python 3 (ipykernel)",
   "language": "python",
   "name": "python3"
  },
  "language_info": {
   "codemirror_mode": {
    "name": "ipython",
    "version": 3
   },
   "file_extension": ".py",
   "mimetype": "text/x-python",
   "name": "python",
   "nbconvert_exporter": "python",
   "pygments_lexer": "ipython3",
   "version": "3.9.13"
  }
 },
 "nbformat": 4,
 "nbformat_minor": 5
}
